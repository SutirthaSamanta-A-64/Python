{
  "nbformat": 4,
  "nbformat_minor": 0,
  "metadata": {
    "colab": {
      "provenance": [],
      "authorship_tag": "ABX9TyPrcM0f5XF/mwcc93blhMOf",
      "include_colab_link": true
    },
    "kernelspec": {
      "name": "python3",
      "display_name": "Python 3"
    },
    "language_info": {
      "name": "python"
    }
  },
  "cells": [
    {
      "cell_type": "markdown",
      "metadata": {
        "id": "view-in-github",
        "colab_type": "text"
      },
      "source": [
        "<a href=\"https://colab.research.google.com/github/SutirthaSamanta31/Python/blob/main/Lab1.ipynb\" target=\"_parent\"><img src=\"https://colab.research.google.com/assets/colab-badge.svg\" alt=\"Open In Colab\"/></a>"
      ]
    },
    {
      "cell_type": "markdown",
      "source": [
        "Q1)Celsius to Fahrenheit"
      ],
      "metadata": {
        "id": "qAw8aGld2ckk"
      }
    },
    {
      "cell_type": "code",
      "execution_count": null,
      "metadata": {
        "id": "06UOGZCA0F_e",
        "colab": {
          "base_uri": "https://localhost:8080/"
        },
        "outputId": "2a440f1f-d6e0-4dda-8dec-af3702496a5a"
      },
      "outputs": [
        {
          "output_type": "stream",
          "name": "stdout",
          "text": [
            "Emter temperature in celsius:45\n",
            "The Fahrenheit equivalent of celsius_temp =  113.0\n"
          ]
        }
      ],
      "source": [
        "celsius_temp = input(\"Emter temperature in celsius:\")\n",
        "celsius_temp = float(celsius_temp)\n",
        "fahrenheit_temp =celsius_temp*1.8+32\n",
        "\n",
        "print(\"The Fahrenheit equivalent of celsius_temp = \", fahrenheit_temp)"
      ]
    },
    {
      "cell_type": "markdown",
      "source": [
        "Q2)Swapping two numbers"
      ],
      "metadata": {
        "id": "6qATDMIz0JQm"
      }
    },
    {
      "cell_type": "code",
      "source": [
        "n1=input(\"Enter first number:\")\n",
        "n2=input(\"Enter second number:\")\n",
        "temp=n1\n",
        "n1=n2\n",
        "n2=temp\n",
        "print(\"First number=\",n1)\n",
        "print(\"Second number=\",n2)"
      ],
      "metadata": {
        "colab": {
          "base_uri": "https://localhost:8080/"
        },
        "id": "55MGq7ik2bxH",
        "outputId": "b102398f-8437-45f1-8995-cd8c491f45a0"
      },
      "execution_count": null,
      "outputs": [
        {
          "output_type": "stream",
          "name": "stdout",
          "text": [
            "Enter first number:4\n",
            "Enter second number:5\n",
            "First number= 5\n",
            "Second number= 4\n"
          ]
        }
      ]
    },
    {
      "cell_type": "markdown",
      "source": [
        "Q3)Leap year or not"
      ],
      "metadata": {
        "id": "vvNxyFUD3VWQ"
      }
    },
    {
      "cell_type": "code",
      "source": [
        "year=int(input(\"Enter a year:\"))\n",
        "if(year%4==0):\n",
        "  print(\"Leap year\")\n",
        "else:\n",
        "  print(\"Not a leap year\")"
      ],
      "metadata": {
        "colab": {
          "base_uri": "https://localhost:8080/"
        },
        "id": "U4X_3BB_300j",
        "outputId": "fac7a321-4ee5-41eb-8adc-64b687213f7e"
      },
      "execution_count": null,
      "outputs": [
        {
          "output_type": "stream",
          "name": "stdout",
          "text": [
            "Enter a year:2015\n",
            "Not a leap year\n"
          ]
        }
      ]
    },
    {
      "cell_type": "markdown",
      "source": [
        "Q4)Reverse of a Number"
      ],
      "metadata": {
        "id": "sBM7uwwx5P3w"
      }
    },
    {
      "cell_type": "code",
      "source": [
        "n=int(input(\"Enter a number:\"))\n",
        "rev=0\n",
        "while(n>0):\n",
        "  dig=n%10\n",
        "  rev=rev*10+dig\n",
        "  n=n//10\n",
        "print(\"Reverse of the number:\",rev)"
      ],
      "metadata": {
        "colab": {
          "base_uri": "https://localhost:8080/"
        },
        "id": "0dm3HuE05Wvw",
        "outputId": "0378945c-0099-432b-ff61-a13a15ce23ea"
      },
      "execution_count": null,
      "outputs": [
        {
          "output_type": "stream",
          "name": "stdout",
          "text": [
            "Enter a number:25\n",
            "Reverse of the number: 52\n"
          ]
        }
      ]
    },
    {
      "cell_type": "markdown",
      "source": [
        "      Q5)WAP to find factors of a given number"
      ],
      "metadata": {
        "id": "JrZ705nRWPGj"
      }
    },
    {
      "cell_type": "code",
      "source": [
        "def find_factors(number):\n",
        "    factors = []\n",
        "\n",
        "    for i in range(1, number + 1):\n",
        "\n",
        "        if number % i == 0:\n",
        "            factors.append(i)  # Add i to the list of factors\n",
        "    return factors\n",
        ":\n",
        "number = int(input(\"Enter a number: \"))\n",
        "print(f\"The factors of {number} are: {find_factors(number)}\")"
      ],
      "metadata": {
        "colab": {
          "base_uri": "https://localhost:8080/"
        },
        "id": "ahfF9vW1WT2U",
        "outputId": "72c7c381-2bf4-422f-9ca8-4b9c42319699"
      },
      "execution_count": null,
      "outputs": [
        {
          "output_type": "stream",
          "name": "stdout",
          "text": [
            "Enter a number: 12\n",
            "The factors of 12 are: [1, 2, 3, 4, 6, 12]\n"
          ]
        }
      ]
    },
    {
      "cell_type": "code",
      "source": [
        "  Q6)pRIME NUMBER\n"
      ],
      "metadata": {
        "id": "jeXFr3srasGL"
      },
      "execution_count": null,
      "outputs": []
    },
    {
      "cell_type": "code",
      "source": [
        "def is_prime(num):\n",
        "    \"\"\" Function to check if a number is prime \"\"\"\n",
        "    if num < 2:\n",
        "        return False\n",
        "    for i in range(2, int(num**0.5) + 1):\n",
        "        if num % i == 0:\n",
        "            return False\n",
        "    return True\n",
        "\n",
        "def prime_series_upto_n(n):\n",
        "    \"\"\" Function to generate prime numbers up to n \"\"\"\n",
        "    prime_numbers = []\n",
        "    for number in range(2, n + 1):\n",
        "        if is_prime(number):\n",
        "            prime_numbers.append(number)\n",
        "    return prime_numbers\n",
        "\n",
        "n = int(input(\"Enter a number (n): \"))\n",
        "prime_list = prime_series_upto_n(n)\n",
        "print(f\"Prime numbers up to {n} are: {prime_list}\")\n"
      ],
      "metadata": {
        "id": "1dPxVymUaw_X"
      },
      "execution_count": null,
      "outputs": []
    },
    {
      "cell_type": "markdown",
      "source": [
        "Q7)Write a program which makes use of function to display all such numbers which are\n",
        "divisible by 7 but are not a multiple of 5, between 1000 and 2000.\n"
      ],
      "metadata": {
        "id": "3f9Y0QBfbz3D"
      }
    },
    {
      "cell_type": "code",
      "source": [
        "def display_numbers():\n",
        "    \"\"\" Function to display numbers between 1000 and 2000 divisible by 7 but not a multiple of 5 \"\"\"\n",
        "    numbers = []\n",
        "    for num in range(1000, 2001):\n",
        "        if num % 7 == 0 and num % 5 != 0:\n",
        "            numbers.append(num)\n",
        "    return numbers\n",
        "\n",
        "\n",
        "result = display_numbers()\n",
        "print(\"Numbers between 1000 and 2000 divisible by 7 but not a multiple of 5:\")\n",
        "print(result)"
      ],
      "metadata": {
        "id": "Clzf63_Cb5Sl",
        "colab": {
          "base_uri": "https://localhost:8080/"
        },
        "outputId": "7bdcea57-e534-496c-c283-132f2d5dfe9d"
      },
      "execution_count": null,
      "outputs": [
        {
          "output_type": "stream",
          "name": "stdout",
          "text": [
            "Numbers between 1000 and 2000 divisible by 7 but not a multiple of 5:\n",
            "[1001, 1008, 1022, 1029, 1036, 1043, 1057, 1064, 1071, 1078, 1092, 1099, 1106, 1113, 1127, 1134, 1141, 1148, 1162, 1169, 1176, 1183, 1197, 1204, 1211, 1218, 1232, 1239, 1246, 1253, 1267, 1274, 1281, 1288, 1302, 1309, 1316, 1323, 1337, 1344, 1351, 1358, 1372, 1379, 1386, 1393, 1407, 1414, 1421, 1428, 1442, 1449, 1456, 1463, 1477, 1484, 1491, 1498, 1512, 1519, 1526, 1533, 1547, 1554, 1561, 1568, 1582, 1589, 1596, 1603, 1617, 1624, 1631, 1638, 1652, 1659, 1666, 1673, 1687, 1694, 1701, 1708, 1722, 1729, 1736, 1743, 1757, 1764, 1771, 1778, 1792, 1799, 1806, 1813, 1827, 1834, 1841, 1848, 1862, 1869, 1876, 1883, 1897, 1904, 1911, 1918, 1932, 1939, 1946, 1953, 1967, 1974, 1981, 1988]\n"
          ]
        }
      ]
    },
    {
      "cell_type": "markdown",
      "source": [
        "Q8)WAP to check whether a number is a palindrome or not\n"
      ],
      "metadata": {
        "id": "2Kqau_rDb6E0"
      }
    },
    {
      "cell_type": "code",
      "source": [
        "def is_palindrome(number):\n",
        "    \"\"\" Function to check if a number is palindrome \"\"\"\n",
        "\n",
        "    num_str = str(number)\n",
        "\n",
        "    if num_str == num_str[::-1]:\n",
        "        return True\n",
        "    else:\n",
        "        return False\n",
        "\n",
        "\n",
        "num = int(input(\"Enter a number: \"))\n",
        "if is_palindrome(num):\n",
        "    print(f\"{num} is a palindrome.\")\n",
        "else:\n",
        "    print(f\"{num} is not a palindrome.\")\n"
      ],
      "metadata": {
        "id": "Ag6uBv1ecEqW"
      },
      "execution_count": null,
      "outputs": []
    },
    {
      "cell_type": "markdown",
      "source": [
        "  Q9) WAP to check whether a)is a perfect number b)is an Armstrong number\n"
      ],
      "metadata": {
        "id": "hRIntMMVcFMF"
      }
    },
    {
      "cell_type": "code",
      "source": [
        "def is_perfect_number(num):\n",
        "    \"\"\" Function to check if a number is a perfect number \"\"\"\n",
        "    if num <= 0:\n",
        "        return False\n",
        "\n",
        "    sum_of_divisors = 0\n",
        "    for i in range(1, num):\n",
        "        if num % i == 0:\n",
        "            sum_of_divisors += i\n",
        "\n",
        "    return sum_of_divisors == num\n",
        "\n",
        "def is_armstrong_number(num):\n",
        "    \"\"\" Function to check if a number is an Armstrong number \"\"\"\n",
        "    if num <= 0:\n",
        "        return False\n",
        "\n",
        "\n",
        "    num_str = str(num)\n",
        "    num_digits = len(num_str)\n",
        "    sum_of_powers = sum(int(digit)**num_digits for digit in num_str)\n",
        "\n",
        "    return sum_of_powers == num\n",
        "\n",
        "def check_numbers(num):\n",
        "    \"\"\" Function to check if a number is both perfect and Armstrong \"\"\"\n",
        "    is_perfect = is_perfect_number(num)\n",
        "    is_armstrong = is_armstrong_number(num)\n",
        "\n",
        "    if is_perfect:\n",
        "        print(f\"{num} is a perfect number.\")\n",
        "    else:\n",
        "        print(f\"{num} is not a perfect number.\")\n",
        "\n",
        "    if is_armstrong:\n",
        "        print(f\"{num} is an Armstrong number.\")\n",
        "    else:\n",
        "        print(f\"{num} is not an Armstrong number.\")\n",
        "\n",
        "\n",
        "number = int(input(\"Enter a number: \"))\n",
        "check_numbers(number)\n"
      ],
      "metadata": {
        "id": "oQx0Mw0-cd0w",
        "colab": {
          "base_uri": "https://localhost:8080/"
        },
        "outputId": "017df9a8-322c-483d-ae5d-a6a2421b4459"
      },
      "execution_count": null,
      "outputs": [
        {
          "output_type": "stream",
          "name": "stdout",
          "text": [
            "Enter a number: 45\n",
            "45 is not a perfect number.\n",
            "45 is not an Armstrong number.\n"
          ]
        }
      ]
    },
    {
      "cell_type": "markdown",
      "source": [
        "Q10)WAP to generate the Fibonacci series upto n."
      ],
      "metadata": {
        "id": "M3_pk947qgZ_"
      }
    },
    {
      "cell_type": "code",
      "source": [
        "\n",
        "def fibonacci_series_upto_n(n):\n",
        "    \"\"\" Function to generate Fibonacci series up to n \"\"\"\n",
        "    fibonacci_series = []\n",
        "\n",
        "    a, b = 0, 1\n",
        "    while a <= n:\n",
        "        fibonacci_series.append(a)\n",
        "        a, b = b, a + b\n",
        "    return fibonacci_series\n",
        "\n",
        "\n",
        "n = int(input(\"Enter a number (n): \"))\n",
        "fibonacci_list = fibonacci_series_upto_n(n)\n",
        "print(f\"Fibonacci series up to {n}:\")\n",
        "print(fibonacci_list)\n",
        "\n"
      ],
      "metadata": {
        "id": "33VkDVj3qbh1"
      },
      "execution_count": null,
      "outputs": []
    },
    {
      "cell_type": "markdown",
      "source": [
        "Q11)Write a program to print your name.\n"
      ],
      "metadata": {
        "id": "aMvaDc8ctWzH"
      }
    },
    {
      "cell_type": "code",
      "source": [
        "Person=input('Enter your name ?')\n",
        "\n",
        "print(Person)"
      ],
      "metadata": {
        "id": "V-uScozdtXJ-"
      },
      "execution_count": null,
      "outputs": []
    },
    {
      "cell_type": "markdown",
      "source": [
        "Q12)Write a  program to add two numbers"
      ],
      "metadata": {
        "id": "Q-sgFBIEtXd-"
      }
    },
    {
      "cell_type": "code",
      "source": [
        "num1 = int(input(\"Enter first number: \"))\n",
        "num2 = int(input(\"Enter second number: \"))\n",
        "\n",
        "sum = num1 + num2\n",
        "print(\"Sum:\", sum)"
      ],
      "metadata": {
        "id": "vmr3uZDotX2-"
      },
      "execution_count": null,
      "outputs": []
    },
    {
      "cell_type": "markdown",
      "source": [
        "Q13)Write a Java program to change temperature from Celsius to Fahrenheit.\n"
      ],
      "metadata": {
        "id": "w07GCTpvtYLG"
      }
    },
    {
      "cell_type": "code",
      "source": [
        "celsius = float(input(\"Enter temperature in Celsius: \"))\n",
        "\n",
        "fahrenheit = (celsius * 9/5) + 32\n",
        "print(\"Temperature in Fahrenheit:\", fahrenheit)\n"
      ],
      "metadata": {
        "id": "e9Z5FGHstYe_"
      },
      "execution_count": null,
      "outputs": []
    },
    {
      "cell_type": "markdown",
      "source": [
        "Q14). Write a program to change temperature from Fahrenheit to Celsius.\n"
      ],
      "metadata": {
        "id": "FrbkMWqCtYw-"
      }
    },
    {
      "cell_type": "code",
      "source": [
        "fahrenheit = float(input(\"Enter temperature in Fahrenheit: \"))\n",
        "\n",
        "celsius = (fahrenheit - 32) * 5/9\n",
        "print(\"Temperature in Celsius:\", celsius)"
      ],
      "metadata": {
        "id": "RnIpkX3_tZdG"
      },
      "execution_count": null,
      "outputs": []
    },
    {
      "cell_type": "markdown",
      "source": [
        "Q15)Write a  program to find area and perimeter of a rectangle.\n"
      ],
      "metadata": {
        "id": "z0H_KQ-ItZsW"
      }
    },
    {
      "cell_type": "code",
      "source": [
        "\n",
        "width = float(input(\"Enter width of rectangle: \"))\n",
        "height = float(input(\"Enter height of rectangle: \"))\n",
        "\n",
        "area = width * height\n",
        "perimeter = 2 * (width + height)\n",
        "\n",
        "print(\"Area of rectangle:\", area)\n",
        "print(\"Perimeter of rectangle:\", perimeter)"
      ],
      "metadata": {
        "id": "sC6ih1nXtaGO"
      },
      "execution_count": null,
      "outputs": []
    },
    {
      "cell_type": "markdown",
      "source": [
        "Q16) Write a  program to find area and perimeter of a circle.\n"
      ],
      "metadata": {
        "id": "StDk_X43GcP8"
      }
    },
    {
      "cell_type": "code",
      "source": [
        "\n",
        "import math\n",
        "\n",
        "radius = float(input(\"Enter radius of circle: \"))\n",
        "\n",
        "area = math.pi * radius * radius\n",
        "perimeter = 2 * math.pi * radius\n",
        "\n",
        "print(\"Area of circle:\", area)\n",
        "print(\"Perimeter of circle:\", perimeter)\n"
      ],
      "metadata": {
        "id": "LgWuBqpgGg3w"
      },
      "execution_count": null,
      "outputs": []
    },
    {
      "cell_type": "markdown",
      "source": [
        "Q17)Write a Program to display whether a number is odd or even.\n"
      ],
      "metadata": {
        "id": "9D9G6fXgGj5z"
      }
    },
    {
      "cell_type": "code",
      "source": [
        "\n",
        "number = int(input(\"Enter a number: \"))\n",
        "\n",
        "if number % 2 == 0:\n",
        "    print(number, \"is even.\")\n",
        "else:\n",
        "    print(number, \"is odd.\")"
      ],
      "metadata": {
        "id": "h40p70LaGpTO"
      },
      "execution_count": null,
      "outputs": []
    },
    {
      "cell_type": "markdown",
      "source": [
        " Q18)Write a Program to check if a number is Positive or Negative.\n"
      ],
      "metadata": {
        "id": "L4YcvY-yGs9G"
      }
    },
    {
      "cell_type": "code",
      "source": [
        "\n",
        "number = float(input(\"Enter a number: \"))\n",
        "\n",
        "if number > 0:\n",
        "    print(number, \"is positive.\")\n",
        "elif number < 0:\n",
        "    print(number, \"is negative.\")\n",
        "else:\n",
        "    print(number, \"is zero.\")\n"
      ],
      "metadata": {
        "id": "2OMIF5NqGvSU"
      },
      "execution_count": null,
      "outputs": []
    },
    {
      "cell_type": "markdown",
      "source": [
        "Q19)Write a program to find maximum of three numbers.\n"
      ],
      "metadata": {
        "id": "-lTsAGfAHU1G"
      }
    },
    {
      "cell_type": "code",
      "source": [
        "\n",
        "num1 = float(input(\"Enter first number: \"))\n",
        "num2 = float(input(\"Enter second number: \"))\n",
        "num3 = float(input(\"Enter third number: \"))\n",
        "\n",
        "max_num = max(num1, num2, num3)\n",
        "print(\"Maximum number is:\", max_num)\n"
      ],
      "metadata": {
        "id": "srrRx0UZHb3K"
      },
      "execution_count": null,
      "outputs": []
    },
    {
      "cell_type": "markdown",
      "source": [
        "Q20)Write a  program to swap two numbers."
      ],
      "metadata": {
        "id": "mFaMAKM_HgaN"
      }
    },
    {
      "cell_type": "code",
      "source": [
        "\n",
        "num1 = float(input(\"Enter first number: \"))\n",
        "num2 = float(input(\"Enter second number: \"))\n",
        "\n",
        "print(\"Before swapping:\")\n",
        "print(\"First number =\", num1)\n",
        "print(\"Second number =\", num2)\n",
        "\n",
        "\n",
        "num1, num2 = num2, num1\n",
        "\n",
        "print(\"After swapping:\")\n",
        "print(\"First number =\", num1)\n",
        "print(\"Second number =\", num2)\n"
      ],
      "metadata": {
        "id": "5O3_JSyvHnol"
      },
      "execution_count": null,
      "outputs": []
    }
  ]
}