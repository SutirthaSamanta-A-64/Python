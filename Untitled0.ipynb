{
  "nbformat": 4,
  "nbformat_minor": 0,
  "metadata": {
    "colab": {
      "provenance": [],
      "authorship_tag": "ABX9TyOjOlWIiiqtDQGmwm/4tYeT",
      "include_colab_link": true
    },
    "kernelspec": {
      "name": "python3",
      "display_name": "Python 3"
    },
    "language_info": {
      "name": "python"
    }
  },
  "cells": [
    {
      "cell_type": "markdown",
      "metadata": {
        "id": "view-in-github",
        "colab_type": "text"
      },
      "source": [
        "<a href=\"https://colab.research.google.com/github/SutirthaSamanta31/Python/blob/main/Untitled0.ipynb\" target=\"_parent\"><img src=\"https://colab.research.google.com/assets/colab-badge.svg\" alt=\"Open In Colab\"/></a>"
      ]
    },
    {
      "cell_type": "markdown",
      "source": [
        "Q1)Celsius to Fahrenheit"
      ],
      "metadata": {
        "id": "qAw8aGld2ckk"
      }
    },
    {
      "cell_type": "code",
      "execution_count": null,
      "metadata": {
        "id": "06UOGZCA0F_e",
        "colab": {
          "base_uri": "https://localhost:8080/"
        },
        "outputId": "2a440f1f-d6e0-4dda-8dec-af3702496a5a"
      },
      "outputs": [
        {
          "output_type": "stream",
          "name": "stdout",
          "text": [
            "Emter temperature in celsius:45\n",
            "The Fahrenheit equivalent of celsius_temp =  113.0\n"
          ]
        }
      ],
      "source": [
        "celsius_temp = input(\"Emter temperature in celsius:\")\n",
        "celsius_temp = float(celsius_temp)\n",
        "fahrenheit_temp =celsius_temp*1.8+32\n",
        "\n",
        "print(\"The Fahrenheit equivalent of celsius_temp = \", fahrenheit_temp)"
      ]
    },
    {
      "cell_type": "markdown",
      "source": [
        "Q2)Swapping two numbers"
      ],
      "metadata": {
        "id": "6qATDMIz0JQm"
      }
    },
    {
      "cell_type": "code",
      "source": [
        "n1=input(\"Enter first number:\")\n",
        "n2=input(\"Enter second number:\")\n",
        "temp=n1\n",
        "n1=n2\n",
        "n2=temp\n",
        "print(\"First number=\",n1)\n",
        "print(\"Second number=\",n2)"
      ],
      "metadata": {
        "colab": {
          "base_uri": "https://localhost:8080/"
        },
        "id": "55MGq7ik2bxH",
        "outputId": "b102398f-8437-45f1-8995-cd8c491f45a0"
      },
      "execution_count": null,
      "outputs": [
        {
          "output_type": "stream",
          "name": "stdout",
          "text": [
            "Enter first number:4\n",
            "Enter second number:5\n",
            "First number= 5\n",
            "Second number= 4\n"
          ]
        }
      ]
    },
    {
      "cell_type": "markdown",
      "source": [
        "Q3)Leap year or not"
      ],
      "metadata": {
        "id": "vvNxyFUD3VWQ"
      }
    },
    {
      "cell_type": "code",
      "source": [
        "year=int(input(\"Enter a year:\"))\n",
        "if(year%4==0):\n",
        "  print(\"Leap year\")\n",
        "else:\n",
        "  print(\"Not a leap year\")"
      ],
      "metadata": {
        "colab": {
          "base_uri": "https://localhost:8080/"
        },
        "id": "U4X_3BB_300j",
        "outputId": "fac7a321-4ee5-41eb-8adc-64b687213f7e"
      },
      "execution_count": null,
      "outputs": [
        {
          "output_type": "stream",
          "name": "stdout",
          "text": [
            "Enter a year:2015\n",
            "Not a leap year\n"
          ]
        }
      ]
    },
    {
      "cell_type": "markdown",
      "source": [
        "Q4)Reverse of a Number"
      ],
      "metadata": {
        "id": "sBM7uwwx5P3w"
      }
    },
    {
      "cell_type": "code",
      "source": [
        "n=int(input(\"Enter a number:\"))\n",
        "rev=0\n",
        "while(n>0):\n",
        "  dig=n%10\n",
        "  rev=rev*10+dig\n",
        "  n=n//10\n",
        "print(\"Reverse of the number:\",rev)"
      ],
      "metadata": {
        "colab": {
          "base_uri": "https://localhost:8080/"
        },
        "id": "0dm3HuE05Wvw",
        "outputId": "0378945c-0099-432b-ff61-a13a15ce23ea"
      },
      "execution_count": null,
      "outputs": [
        {
          "output_type": "stream",
          "name": "stdout",
          "text": [
            "Enter a number:25\n",
            "Reverse of the number: 52\n"
          ]
        }
      ]
    },
    {
      "cell_type": "markdown",
      "source": [
        "      Q5)WAP to find factors of a given number"
      ],
      "metadata": {
        "id": "JrZ705nRWPGj"
      }
    },
    {
      "cell_type": "code",
      "source": [
        "def find_factors(number):\n",
        "    factors = []\n",
        "    # Loop through all numbers from 1 to the number itself\n",
        "    for i in range(1, number + 1):\n",
        "        # Check if i is a factor of the number\n",
        "        if number % i == 0:\n",
        "            factors.append(i)  # Add i to the list of factors\n",
        "    return factors\n",
        "\n",
        "# Example usage:\n",
        "number = int(input(\"Enter a number: \"))\n",
        "print(f\"The factors of {number} are: {find_factors(number)}\")"
      ],
      "metadata": {
        "colab": {
          "base_uri": "https://localhost:8080/"
        },
        "id": "ahfF9vW1WT2U",
        "outputId": "72c7c381-2bf4-422f-9ca8-4b9c42319699"
      },
      "execution_count": null,
      "outputs": [
        {
          "output_type": "stream",
          "name": "stdout",
          "text": [
            "Enter a number: 12\n",
            "The factors of 12 are: [1, 2, 3, 4, 6, 12]\n"
          ]
        }
      ]
    },
    {
      "cell_type": "code",
      "source": [
        "  Q6)pRIME NUMBER\n"
      ],
      "metadata": {
        "id": "jeXFr3srasGL"
      },
      "execution_count": null,
      "outputs": []
    },
    {
      "cell_type": "code",
      "source": [
        "def is_prime(num):\n",
        "    \"\"\" Function to check if a number is prime \"\"\"\n",
        "    if num < 2:\n",
        "        return False\n",
        "    for i in range(2, int(num**0.5) + 1):\n",
        "        if num % i == 0:\n",
        "            return False\n",
        "    return True\n",
        "\n",
        "def prime_series_upto_n(n):\n",
        "    \"\"\" Function to generate prime numbers up to n \"\"\"\n",
        "    prime_numbers = []\n",
        "    for number in range(2, n + 1):\n",
        "        if is_prime(number):\n",
        "            prime_numbers.append(number)\n",
        "    return prime_numbers\n",
        "\n",
        "# Example usage:\n",
        "n = int(input(\"Enter a number (n): \"))\n",
        "prime_list = prime_series_upto_n(n)\n",
        "print(f\"Prime numbers up to {n} are: {prime_list}\")\n"
      ],
      "metadata": {
        "id": "1dPxVymUaw_X"
      },
      "execution_count": null,
      "outputs": []
    },
    {
      "cell_type": "markdown",
      "source": [
        "Q7)Write a program which makes use of function to display all such numbers which are\n",
        "divisible by 7 but are not a multiple of 5, between 1000 and 2000.\n"
      ],
      "metadata": {
        "id": "3f9Y0QBfbz3D"
      }
    },
    {
      "cell_type": "code",
      "source": [
        "def display_numbers():\n",
        "    \"\"\" Function to display numbers between 1000 and 2000 divisible by 7 but not a multiple of 5 \"\"\"\n",
        "    numbers = []\n",
        "    for num in range(1000, 2001):\n",
        "        if num % 7 == 0 and num % 5 != 0:\n",
        "            numbers.append(num)\n",
        "    return numbers\n",
        "\n",
        "# Calling the function and printing the result\n",
        "result = display_numbers()\n",
        "print(\"Numbers between 1000 and 2000 divisible by 7 but not a multiple of 5:\")\n",
        "print(result)"
      ],
      "metadata": {
        "id": "Clzf63_Cb5Sl",
        "colab": {
          "base_uri": "https://localhost:8080/"
        },
        "outputId": "7bdcea57-e534-496c-c283-132f2d5dfe9d"
      },
      "execution_count": null,
      "outputs": [
        {
          "output_type": "stream",
          "name": "stdout",
          "text": [
            "Numbers between 1000 and 2000 divisible by 7 but not a multiple of 5:\n",
            "[1001, 1008, 1022, 1029, 1036, 1043, 1057, 1064, 1071, 1078, 1092, 1099, 1106, 1113, 1127, 1134, 1141, 1148, 1162, 1169, 1176, 1183, 1197, 1204, 1211, 1218, 1232, 1239, 1246, 1253, 1267, 1274, 1281, 1288, 1302, 1309, 1316, 1323, 1337, 1344, 1351, 1358, 1372, 1379, 1386, 1393, 1407, 1414, 1421, 1428, 1442, 1449, 1456, 1463, 1477, 1484, 1491, 1498, 1512, 1519, 1526, 1533, 1547, 1554, 1561, 1568, 1582, 1589, 1596, 1603, 1617, 1624, 1631, 1638, 1652, 1659, 1666, 1673, 1687, 1694, 1701, 1708, 1722, 1729, 1736, 1743, 1757, 1764, 1771, 1778, 1792, 1799, 1806, 1813, 1827, 1834, 1841, 1848, 1862, 1869, 1876, 1883, 1897, 1904, 1911, 1918, 1932, 1939, 1946, 1953, 1967, 1974, 1981, 1988]\n"
          ]
        }
      ]
    },
    {
      "cell_type": "markdown",
      "source": [
        "Q8)WAP to check whether a number is a palindrome or not\n"
      ],
      "metadata": {
        "id": "2Kqau_rDb6E0"
      }
    },
    {
      "cell_type": "code",
      "source": [
        "def is_palindrome(number):\n",
        "    \"\"\" Function to check if a number is palindrome \"\"\"\n",
        "    # Convert number to string to easily check palindrome property\n",
        "    num_str = str(number)\n",
        "    # Check if the number is equal to its reverse\n",
        "    if num_str == num_str[::-1]:\n",
        "        return True\n",
        "    else:\n",
        "        return False\n",
        "\n",
        "# Example usage:\n",
        "num = int(input(\"Enter a number: \"))\n",
        "if is_palindrome(num):\n",
        "    print(f\"{num} is a palindrome.\")\n",
        "else:\n",
        "    print(f\"{num} is not a palindrome.\")\n"
      ],
      "metadata": {
        "id": "Ag6uBv1ecEqW"
      },
      "execution_count": null,
      "outputs": []
    },
    {
      "cell_type": "markdown",
      "source": [
        "  Q9) WAP to check whether a)is a perfect number b)is an Armstrong number\n"
      ],
      "metadata": {
        "id": "hRIntMMVcFMF"
      }
    },
    {
      "cell_type": "code",
      "source": [
        "def is_perfect_number(num):\n",
        "    \"\"\" Function to check if a number is a perfect number \"\"\"\n",
        "    if num <= 0:\n",
        "        return False\n",
        "\n",
        "    sum_of_divisors = 0\n",
        "    for i in range(1, num):\n",
        "        if num % i == 0:\n",
        "            sum_of_divisors += i\n",
        "\n",
        "    return sum_of_divisors == num\n",
        "\n",
        "def is_armstrong_number(num):\n",
        "    \"\"\" Function to check if a number is an Armstrong number \"\"\"\n",
        "    if num <= 0:\n",
        "        return False\n",
        "\n",
        "    # Convert number to string to iterate over each digit\n",
        "    num_str = str(num)\n",
        "    num_digits = len(num_str)\n",
        "    sum_of_powers = sum(int(digit)**num_digits for digit in num_str)\n",
        "\n",
        "    return sum_of_powers == num\n",
        "\n",
        "def check_numbers(num):\n",
        "    \"\"\" Function to check if a number is both perfect and Armstrong \"\"\"\n",
        "    is_perfect = is_perfect_number(num)\n",
        "    is_armstrong = is_armstrong_number(num)\n",
        "\n",
        "    if is_perfect:\n",
        "        print(f\"{num} is a perfect number.\")\n",
        "    else:\n",
        "        print(f\"{num} is not a perfect number.\")\n",
        "\n",
        "    if is_armstrong:\n",
        "        print(f\"{num} is an Armstrong number.\")\n",
        "    else:\n",
        "        print(f\"{num} is not an Armstrong number.\")\n",
        "\n",
        "# Example usage:\n",
        "number = int(input(\"Enter a number: \"))\n",
        "check_numbers(number)\n"
      ],
      "metadata": {
        "id": "oQx0Mw0-cd0w",
        "colab": {
          "base_uri": "https://localhost:8080/"
        },
        "outputId": "017df9a8-322c-483d-ae5d-a6a2421b4459"
      },
      "execution_count": null,
      "outputs": [
        {
          "output_type": "stream",
          "name": "stdout",
          "text": [
            "Enter a number: 45\n",
            "45 is not a perfect number.\n",
            "45 is not an Armstrong number.\n"
          ]
        }
      ]
    },
    {
      "cell_type": "markdown",
      "source": [
        "Q10)WAP to generate the Fibonacci series upto n.\n",
        "Complete"
      ],
      "metadata": {
        "id": "PrkRLFOhcec4"
      }
    },
    {
      "cell_type": "code",
      "source": [
        "def fibonacci_series_upto_n(n):\n",
        "    \"\"\" Function to generate Fibonacci series up to n \"\"\"\n",
        "    fibonacci_series = []\n",
        "    # Initial Fibonacci numbers\n",
        "    a, b = 0, 1\n",
        "    while a <= n:\n",
        "        fibonacci_series.append(a)\n",
        "        a, b = b, a + b\n",
        "    return fibonacci_series\n",
        "\n",
        "# Example usage:\n",
        "n = int(input(\"Enter a number (n): \"))\n",
        "fibonacci_list = fibonacci_series_upto_n(n)\n",
        "print(f\"Fibonacci series up to {n}:\")\n",
        "print(fibonacci_list)"
      ],
      "metadata": {
        "id": "KpqPm8CGcl9Y",
        "colab": {
          "base_uri": "https://localhost:8080/"
        },
        "outputId": "81ee47c5-daa6-4b8c-dab1-b8d1cdf33fe7"
      },
      "execution_count": null,
      "outputs": [
        {
          "output_type": "stream",
          "name": "stdout",
          "text": [
            "Enter a number (n): 5\n",
            "Fibonacci series up to 5:\n",
            "[0, 1, 1, 2, 3, 5]\n"
          ]
        }
      ]
    },
    {
      "cell_type": "markdown",
      "source": [
        "1. Write a program to print your name.\n"
      ],
      "metadata": {
        "id": "aQLvhDrsdxS8"
      }
    },
    {
      "cell_type": "code",
      "source": [
        "# Python program to print your name\n",
        "Name=(input(\"Enter your name:\"))\n",
        "print( Name)"
      ],
      "metadata": {
        "id": "UqX2j-0SeslS",
        "colab": {
          "base_uri": "https://localhost:8080/",
          "height": 634
        },
        "outputId": "c5fe1b04-92c8-4adc-9ea4-9481624e7c98"
      },
      "execution_count": null,
      "outputs": [
        {
          "output_type": "error",
          "ename": "KeyboardInterrupt",
          "evalue": "Interrupted by user",
          "traceback": [
            "\u001b[0;31m---------------------------------------------------------------------------\u001b[0m",
            "\u001b[0;31mKeyboardInterrupt\u001b[0m                         Traceback (most recent call last)",
            "\u001b[0;32m<ipython-input-4-6c0c75aca3b7>\u001b[0m in \u001b[0;36m<cell line: 2>\u001b[0;34m()\u001b[0m\n\u001b[1;32m      1\u001b[0m \u001b[0;31m# Python program to print your name\u001b[0m\u001b[0;34m\u001b[0m\u001b[0;34m\u001b[0m\u001b[0m\n\u001b[0;32m----> 2\u001b[0;31m \u001b[0mName\u001b[0m\u001b[0;34m=\u001b[0m\u001b[0;34m(\u001b[0m\u001b[0minput\u001b[0m\u001b[0;34m(\u001b[0m\u001b[0;34m\"Enter your name:\"\u001b[0m\u001b[0;34m)\u001b[0m\u001b[0;34m)\u001b[0m\u001b[0;34m\u001b[0m\u001b[0;34m\u001b[0m\u001b[0m\n\u001b[0m\u001b[1;32m      3\u001b[0m \u001b[0mprint\u001b[0m\u001b[0;34m(\u001b[0m \u001b[0mName\u001b[0m\u001b[0;34m)\u001b[0m\u001b[0;34m\u001b[0m\u001b[0;34m\u001b[0m\u001b[0m\n",
            "\u001b[0;32m/usr/local/lib/python3.10/dist-packages/ipykernel/kernelbase.py\u001b[0m in \u001b[0;36mraw_input\u001b[0;34m(self, prompt)\u001b[0m\n\u001b[1;32m    849\u001b[0m                 \u001b[0;34m\"raw_input was called, but this frontend does not support input requests.\"\u001b[0m\u001b[0;34m\u001b[0m\u001b[0;34m\u001b[0m\u001b[0m\n\u001b[1;32m    850\u001b[0m             )\n\u001b[0;32m--> 851\u001b[0;31m         return self._input_request(str(prompt),\n\u001b[0m\u001b[1;32m    852\u001b[0m             \u001b[0mself\u001b[0m\u001b[0;34m.\u001b[0m\u001b[0m_parent_ident\u001b[0m\u001b[0;34m,\u001b[0m\u001b[0;34m\u001b[0m\u001b[0;34m\u001b[0m\u001b[0m\n\u001b[1;32m    853\u001b[0m             \u001b[0mself\u001b[0m\u001b[0;34m.\u001b[0m\u001b[0m_parent_header\u001b[0m\u001b[0;34m,\u001b[0m\u001b[0;34m\u001b[0m\u001b[0;34m\u001b[0m\u001b[0m\n",
            "\u001b[0;32m/usr/local/lib/python3.10/dist-packages/ipykernel/kernelbase.py\u001b[0m in \u001b[0;36m_input_request\u001b[0;34m(self, prompt, ident, parent, password)\u001b[0m\n\u001b[1;32m    893\u001b[0m             \u001b[0;32mexcept\u001b[0m \u001b[0mKeyboardInterrupt\u001b[0m\u001b[0;34m:\u001b[0m\u001b[0;34m\u001b[0m\u001b[0;34m\u001b[0m\u001b[0m\n\u001b[1;32m    894\u001b[0m                 \u001b[0;31m# re-raise KeyboardInterrupt, to truncate traceback\u001b[0m\u001b[0;34m\u001b[0m\u001b[0;34m\u001b[0m\u001b[0m\n\u001b[0;32m--> 895\u001b[0;31m                 \u001b[0;32mraise\u001b[0m \u001b[0mKeyboardInterrupt\u001b[0m\u001b[0;34m(\u001b[0m\u001b[0;34m\"Interrupted by user\"\u001b[0m\u001b[0;34m)\u001b[0m \u001b[0;32mfrom\u001b[0m \u001b[0;32mNone\u001b[0m\u001b[0;34m\u001b[0m\u001b[0;34m\u001b[0m\u001b[0m\n\u001b[0m\u001b[1;32m    896\u001b[0m             \u001b[0;32mexcept\u001b[0m \u001b[0mException\u001b[0m \u001b[0;32mas\u001b[0m \u001b[0me\u001b[0m\u001b[0;34m:\u001b[0m\u001b[0;34m\u001b[0m\u001b[0;34m\u001b[0m\u001b[0m\n\u001b[1;32m    897\u001b[0m                 \u001b[0mself\u001b[0m\u001b[0;34m.\u001b[0m\u001b[0mlog\u001b[0m\u001b[0;34m.\u001b[0m\u001b[0mwarning\u001b[0m\u001b[0;34m(\u001b[0m\u001b[0;34m\"Invalid Message:\"\u001b[0m\u001b[0;34m,\u001b[0m \u001b[0mexc_info\u001b[0m\u001b[0;34m=\u001b[0m\u001b[0;32mTrue\u001b[0m\u001b[0;34m)\u001b[0m\u001b[0;34m\u001b[0m\u001b[0;34m\u001b[0m\u001b[0m\n",
            "\u001b[0;31mKeyboardInterrupt\u001b[0m: Interrupted by user"
          ]
        }
      ]
    },
    {
      "cell_type": "markdown",
      "source": [
        "\n",
        "2. Write a Java program to add two numbers\n"
      ],
      "metadata": {
        "id": "YVZabmJnetkH"
      }
    },
    {
      "cell_type": "code",
      "source": [
        "# Python program to add two numbers\n",
        "num1 = int(input(\"Enter first number: \"))\n",
        "num2 = int(input(\"Enter second number: \"))\n",
        "\n",
        "sum = num1 + num2\n",
        "print(\"Sum:\", sum)"
      ],
      "metadata": {
        "id": "tVZNqqmne1m1"
      },
      "execution_count": null,
      "outputs": []
    },
    {
      "cell_type": "markdown",
      "source": [
        "\n",
        "3. Write a Java program to change temperature from Celsius to Fahrenheit."
      ],
      "metadata": {
        "id": "_AlMbgCRe2L0"
      }
    },
    {
      "cell_type": "code",
      "source": [
        "# Python program to convert Celsius to Fahrenheit\n",
        "celsius = float(input(\"Enter temperature in Celsius: \"))\n",
        "\n",
        "fahrenheit = (celsius * 9/5) + 32\n",
        "print(\"Temperature in Fahrenheit:\", fahrenheit)"
      ],
      "metadata": {
        "id": "DiAvtdGoe4-L"
      },
      "execution_count": null,
      "outputs": []
    },
    {
      "cell_type": "markdown",
      "source": [
        "4. Write a Java program to change temperature from Fahrenheit to Celsius.\n"
      ],
      "metadata": {
        "id": "Z2j-iBu3e5ZN"
      }
    },
    {
      "cell_type": "code",
      "source": [
        "\n",
        "fahrenheit = float(input(\"Enter temperature in Fahrenheit: \"))\n",
        "\n",
        "celsius = (fahrenheit - 32) * 5/9\n",
        "print(\"Temperature in Celsius:\", celsius)\n"
      ],
      "metadata": {
        "id": "y8KiCrSSfBOs"
      },
      "execution_count": null,
      "outputs": []
    },
    {
      "cell_type": "markdown",
      "source": [
        "5. Write a Java program to find area and perimeter of a rectangle.\n"
      ],
      "metadata": {
        "id": "lFedqU_SfBqD"
      }
    },
    {
      "cell_type": "code",
      "source": [
        "\n",
        "width = float(input(\"Enter width of rectangle: \"))\n",
        "height = float(input(\"Enter height of rectangle: \"))\n",
        "\n",
        "area = width * height\n",
        "perimeter = 2 * (width + height)\n",
        "\n",
        "print(\"Area of rectangle:\", area)\n",
        "print(\"Perimeter of rectangle:\", perimeter)"
      ],
      "metadata": {
        "id": "t37vFgRifGxo"
      },
      "execution_count": null,
      "outputs": []
    },
    {
      "cell_type": "markdown",
      "source": [
        "6. Write a Java program to find area and perimeter of a circle.\n"
      ],
      "metadata": {
        "id": "j45tAlTafHx0"
      }
    },
    {
      "cell_type": "code",
      "source": [
        "\n",
        "import math\n",
        "\n",
        "radius = float(input(\"Enter radius of circle: \"))\n",
        "\n",
        "area = math.pi * radius * radius\n",
        "perimeter = 2 * math.pi * radius\n",
        "\n",
        "print(\"Area of circle:\", area)\n",
        "print(\"Perimeter of circle:\", perimeter)\n"
      ],
      "metadata": {
        "id": "LOcwI_5hfJJk",
        "colab": {
          "base_uri": "https://localhost:8080/"
        },
        "outputId": "1c7ad6ed-529f-41ec-b2be-9bd9df0880ab"
      },
      "execution_count": null,
      "outputs": [
        {
          "output_type": "stream",
          "name": "stdout",
          "text": [
            "Enter radius of circle: 22.0\n",
            "Area of circle: 1520.5308443374597\n",
            "Perimeter of circle: 138.23007675795088\n"
          ]
        }
      ]
    },
    {
      "cell_type": "markdown",
      "source": [
        "7. Write a Java Program to display whether a number is odd or even.\n"
      ],
      "metadata": {
        "id": "lWedhOejfK0M"
      }
    },
    {
      "cell_type": "code",
      "source": [
        "\n",
        "number = int(input(\"Enter a number: \"))\n",
        "\n",
        "if number % 2 == 0:\n",
        "    print(number, \"is even.\")\n",
        "else:\n",
        "    print(number, \"is odd.\")\n"
      ],
      "metadata": {
        "id": "cOrpQ3_pfSDs"
      },
      "execution_count": null,
      "outputs": []
    },
    {
      "cell_type": "markdown",
      "source": [
        "8. Write a Java Program to check if a number is Positive or Negative.\n"
      ],
      "metadata": {
        "id": "0dkDkA0RfSir"
      }
    },
    {
      "cell_type": "code",
      "source": [
        "\n",
        "number = float(input(\"Enter a number: \"))\n",
        "\n",
        "if number > 0:\n",
        "    print(number, \"is positive.\")\n",
        "elif number < 0:\n",
        "    print(number, \"is negative.\")\n",
        "else:\n",
        "    print(number, \"is zero.\")"
      ],
      "metadata": {
        "id": "tqYCZfwcgn_8"
      },
      "execution_count": null,
      "outputs": []
    },
    {
      "cell_type": "markdown",
      "source": [
        "9. Write a Java program to find maximum of three numbers.\n"
      ],
      "metadata": {
        "id": "uwpfDOBRfWSu"
      }
    },
    {
      "cell_type": "markdown",
      "source": [],
      "metadata": {
        "id": "ouNZp7kehI07"
      }
    },
    {
      "cell_type": "code",
      "source": [
        "\n",
        "num1 = float(input(\"Enter first number: \"))\n",
        "num2 = float(input(\"Enter second number: \"))\n",
        "num3 = float(input(\"Enter third number: \"))\n",
        "\n",
        "max_num = max(num1, num2, num3)\n",
        "print(\"Maximum number is:\", max_num)"
      ],
      "metadata": {
        "id": "RdU59FqBfZDy"
      },
      "execution_count": null,
      "outputs": []
    },
    {
      "cell_type": "markdown",
      "source": [
        "10. Write a Java program to swap two numbers.\n"
      ],
      "metadata": {
        "id": "a1FPXMt4faWU"
      }
    },
    {
      "cell_type": "code",
      "source": [
        "\n",
        "num1 = float(input(\"Enter first number: \"))\n",
        "num2 = float(input(\"Enter second number: \"))\n",
        "\n",
        "print(\"Before swapping:\")\n",
        "print(\"First number =\", num1)\n",
        "print(\"Second number =\", num2)\n",
        "\n",
        "\n",
        "num1, num2 = num2, num1\n",
        "\n",
        "print(\"After swapping:\")\n",
        "print(\"First number =\", num1)\n",
        "print(\"Second number =\", num2)\n"
      ],
      "metadata": {
        "id": "Od6XLaHbfcVL"
      },
      "execution_count": null,
      "outputs": []
    },
    {
      "cell_type": "code",
      "source": [],
      "metadata": {
        "id": "sZyTvtE9fVpZ"
      },
      "execution_count": null,
      "outputs": []
    },
    {
      "cell_type": "markdown",
      "source": [
        "Q1)SUM OF SQUARE OF SQUAREROOT  OF ANY THREE NUMBERS."
      ],
      "metadata": {
        "id": "4LfiBu83vvFT"
      }
    },
    {
      "cell_type": "code",
      "source": [
        "import math\n",
        "\n",
        "def sum_of_square_roots(a, b, c):\n",
        "    sqrt_a = math.sqrt(a)\n",
        "    sqrt_b = math.sqrt(b)\n",
        "    sqrt_c = math.sqrt(c)\n",
        "\n",
        "    sum_sqrt = sqrt_a + sqrt_b + sqrt_c\n",
        "\n",
        "    return sum_sqrt\n",
        "\n",
        "\n",
        "num1 = 4\n",
        "num2 = 9\n",
        "num3 = 16\n",
        "\n",
        "result = sum_of_square_roots(num1, num2, num3)\n",
        "print(f\"The sum of square roots of {num1}, {num2}, and {num3} is: {result}\")\n"
      ],
      "metadata": {
        "colab": {
          "base_uri": "https://localhost:8080/"
        },
        "id": "sbARWuMxvwkS",
        "outputId": "66c44c51-038c-40e2-b254-a5f25bd47b08"
      },
      "execution_count": null,
      "outputs": [
        {
          "output_type": "stream",
          "name": "stdout",
          "text": [
            "The sum of square roots of 4, 9, and 16 is: 9.0\n"
          ]
        }
      ]
    },
    {
      "cell_type": "markdown",
      "source": [
        "Q2)TO SOLVE QUADRATIC EQUATION"
      ],
      "metadata": {
        "id": "4WjUthYhzyGR"
      }
    },
    {
      "cell_type": "code",
      "source": [
        "import math\n",
        "\n",
        "def solve_quadratic(a, b, c):\n",
        "\n",
        "    discriminant = b**2 - 4*a*c\n",
        "\n",
        "    # Check if the discriminant is positive, zero, or negative to determine the nature of roots\n",
        "    if discriminant > 0:\n",
        "        # Two real and distinct roots\n",
        "        root1 = (-b + math.sqrt(discriminant)) / (2*a)\n",
        "        root2 = (-b - math.sqrt(discriminant)) / (2*a)\n",
        "        return root1, root2\n",
        "    elif discriminant == 0:\n",
        "        # One real root (both roots are the same)\n",
        "        root = -b / (2*a)\n",
        "        return root, root\n",
        "    else:\n",
        "        # Complex roots (discriminant is negative)\n",
        "        real_part = -b / (2*a)\n",
        "        imaginary_part = math.sqrt(abs(discriminant)) / (2*a)\n",
        "        root1 = complex(real_part, imaginary_part)\n",
        "        root2 = complex(real_part, -imaginary_part)\n",
        "        return root1, root2\n",
        "\n",
        "# Example usage:\n",
        "a = 1\n",
        "b = -3\n",
        "c = 2\n",
        "\n",
        "roots = solve_quadratic(a, b, c)\n",
        "print(f\"The roots of the equation {a}x^2 + {b}x + {c} = 0 are: {roots}\")"
      ],
      "metadata": {
        "id": "maISvWQD1MDQ",
        "outputId": "eab0306a-e2c3-418c-c484-8741fc8f29c4",
        "colab": {
          "base_uri": "https://localhost:8080/"
        }
      },
      "execution_count": null,
      "outputs": [
        {
          "output_type": "stream",
          "name": "stdout",
          "text": [
            "The roots of the equation 1x^2 + -3x + 2 = 0 are: (2.0, 1.0)\n"
          ]
        }
      ]
    },
    {
      "cell_type": "markdown",
      "source": [],
      "metadata": {
        "id": "Onabyyv61vsw"
      }
    }
  ]
}