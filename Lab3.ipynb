{
  "nbformat": 4,
  "nbformat_minor": 0,
  "metadata": {
    "colab": {
      "provenance": [],
      "authorship_tag": "ABX9TyPVfXKVMF+HbcWSjrxMGdpQ",
      "include_colab_link": true
    },
    "kernelspec": {
      "name": "python3",
      "display_name": "Python 3"
    },
    "language_info": {
      "name": "python"
    }
  },
  "cells": [
    {
      "cell_type": "markdown",
      "metadata": {
        "id": "view-in-github",
        "colab_type": "text"
      },
      "source": [
        "<a href=\"https://colab.research.google.com/github/SutirthaSamanta31/Python/blob/main/Lab3.ipynb\" target=\"_parent\"><img src=\"https://colab.research.google.com/assets/colab-badge.svg\" alt=\"Open In Colab\"/></a>"
      ]
    },
    {
      "cell_type": "markdown",
      "source": [
        "  Q1)Write a function called check-season, it takes a month parameter and returns the season:\n",
        "Autumn, Winter, Spring or Summer."
      ],
      "metadata": {
        "id": "Oqgn6c4lPQ4P"
      }
    },
    {
      "cell_type": "code",
      "source": [
        "def check_season(month):\n",
        "\n",
        "    month = month.lower()\n",
        "\n",
        "\n",
        "    if month in ['december', 'january', 'february']:\n",
        "        return 'Winter'\n",
        "    elif month in ['march', 'april', 'may']:\n",
        "        return 'Spring'\n",
        "    elif month in ['june', 'july', 'august']:\n",
        "        return 'Summer'\n",
        "    elif month in ['september', 'october', 'november']:\n",
        "        return 'Autumn'\n",
        "    else:\n",
        "        return 'Invalid month'\n",
        "\n",
        "\n",
        "month = input(\"Enter the month: \")\n",
        "season = check_season(month)\n",
        "print(f\"The season for {month} is {season}.\")\n"
      ],
      "metadata": {
        "id": "rurAPi7UPYD2"
      },
      "execution_count": null,
      "outputs": []
    },
    {
      "cell_type": "markdown",
      "source": [
        "Q2)Write a function called calculate_slope which return the slope of a linear equation"
      ],
      "metadata": {
        "id": "xhfTdApNPf3-"
      }
    },
    {
      "cell_type": "code",
      "source": [
        "Write a function called calculate_slope which return the slope of a linear equation"
      ],
      "metadata": {
        "id": "Z00aQI23Pler"
      },
      "execution_count": null,
      "outputs": []
    },
    {
      "cell_type": "code",
      "source": [
        "def calculate_slope(x1, y1, x2, y2):\n",
        "\n",
        "    if x1 == x2:\n",
        "        raise ValueError(\"The x-coordinates of the two points must be different to calculate the slope.\")\n",
        "\n",
        "\n",
        "    slope = (y2 - y1) / (x2 - x1)\n",
        "    return slope\n",
        "\n",
        "\n",
        "try:\n",
        "    x1, y1 = map(float, input(\"Enter the coordinates of the first point (x1 y1): \").split())\n",
        "    x2, y2 = map(float, input(\"Enter the coordinates of the second point (x2 y2): \").split())\n",
        "\n",
        "    slope = calculate_slope(x1, y1, x2, y2)\n",
        "    print(f\"The slope of the line through the points ({x1}, {y1}) and ({x2}, {y2}) is {slope}.\")\n",
        "except ValueError as ve:\n",
        "    print(ve)\n",
        "except Exception as e:\n",
        "    print(\"Invalid input. Please enter valid coordinates.\")\n"
      ],
      "metadata": {
        "id": "hb53B6gPPpAV"
      },
      "execution_count": null,
      "outputs": []
    },
    {
      "cell_type": "markdown",
      "source": [
        "Q3)Quadratic equation is calculated as follows: ax² + bx + c = 0. Write a function which\n",
        "calculates solution set of a quadratic equation, _solve_quadratic_eqn_."
      ],
      "metadata": {
        "id": "qszX4dOJPuHf"
      }
    },
    {
      "cell_type": "code",
      "source": [
        "import math\n",
        "\n",
        "def solve_quadratic_eqn(a, b, c):\n",
        "    # Calculate the discriminant\n",
        "    discriminant = b**2 - 4*a*c\n",
        "\n",
        "    # Check the nature of the discriminant\n",
        "    if discriminant > 0:\n",
        "        # Two real and distinct roots\n",
        "        root1 = (-b + math.sqrt(discriminant)) / (2*a)\n",
        "        root2 = (-b - math.sqrt(discriminant)) / (2*a)\n",
        "        return (root1, root2)\n",
        "    elif discriminant == 0:\n",
        "        # One real root\n",
        "        root = -b / (2*a)\n",
        "        return (root,)\n",
        "    else:\n",
        "        # Complex roots\n",
        "        real_part = -b / (2*a)\n",
        "        imaginary_part = math.sqrt(-discriminant) / (2*a)\n",
        "        root1 = (real_part, imaginary_part)\n",
        "        root2 = (real_part, -imaginary_part)\n",
        "        return (root1, root2)\n",
        "\n",
        "# Example usage\n",
        "try:\n",
        "    a = float(input(\"Enter the coefficient a: \"))\n",
        "    b = float(input(\"Enter the coefficient b: \"))\n",
        "    c = float(input(\"Enter the coefficient c: \"))\n",
        "\n",
        "    roots = solve_quadratic_eqn(a, b, c)\n",
        "\n",
        "    if len(roots) == 2:\n",
        "        print(f\"The roots are {roots[0]} and {roots[1]}.\")\n",
        "    elif len(roots) == 1:\n",
        "        print(f\"The root is {roots[0]}.\")\n",
        "    else:\n",
        "        print(f\"The roots are {roots[0]} + {roots[1]}i and {roots[0]} - {roots[1]}i.\")\n",
        "except ValueError:\n",
        "    print(\"Invalid input. Please enter valid numerical coefficients.\")\n"
      ],
      "metadata": {
        "id": "Kle1BIOuPzr1"
      },
      "execution_count": null,
      "outputs": []
    },
    {
      "cell_type": "markdown",
      "source": [
        "Q4)Declare a function named print_list. It takes a list as a parameter and it prints out each\n",
        "element of the list."
      ],
      "metadata": {
        "id": "FxEhWk9MP2XH"
      }
    },
    {
      "cell_type": "code",
      "source": [
        "def print_list(elements):\n",
        "\n",
        "    for element in elements:\n",
        "        print(element)\n",
        "\n",
        "\n",
        "sample_list = [1, 2, 3, 4, 5]\n",
        "print(\"The elements in the list are:\")\n",
        "print_list(sample_list)\n"
      ],
      "metadata": {
        "id": "fTOdeJKGP7sG"
      },
      "execution_count": null,
      "outputs": []
    },
    {
      "cell_type": "markdown",
      "source": [
        "Q5)Declare a function named reverse_list. It takes an array as a parameter and it returns the\n",
        "reverse of the array (use loops)."
      ],
      "metadata": {
        "id": "wgzPDQqWP_Xe"
      }
    },
    {
      "cell_type": "code",
      "source": [
        "def reverse_list(arr):\n",
        "\n",
        "    reversed_arr = []\n",
        "\n",
        "\n",
        "    for i in range(len(arr) - 1, -1, -1):\n",
        "        reversed_arr.append(arr[i])\n",
        "\n",
        "    return reversed_arr\n",
        "\n",
        "\n",
        "sample_list = [1, 2, 3, 4, 5]\n",
        "reversed_list = reverse_list(sample_list)\n",
        "print(\"Original list:\", sample_list)\n",
        "print(\"Reversed list:\", reversed_list)\n"
      ],
      "metadata": {
        "id": "8jAyy_9AQES9"
      },
      "execution_count": null,
      "outputs": []
    },
    {
      "cell_type": "markdown",
      "source": [
        "Q6)Compute the sum up to n terms in the series\n",
        "1 - 1/2 + 1/3 - 1/4 + 1/5 -... 1/n where n is a positive integer and input by user."
      ],
      "metadata": {
        "id": "acCC4uDUQGi3"
      }
    },
    {
      "cell_type": "code",
      "source": [
        "def compute_series_sum(n):\n",
        "    # Initialize the sum to 0\n",
        "    total_sum = 0.0\n",
        "\n",
        "    # Iterate from 1 to n, adding and subtracting the reciprocal\n",
        "    for i in range(1, n + 1):\n",
        "        if i % 2 == 0:\n",
        "            total_sum -= 1 / i\n",
        "        else:\n",
        "            total_sum += 1 / i\n",
        "\n",
        "    return total_sum\n",
        "\n",
        "# Example usage\n",
        "try:\n",
        "    n = int(input(\"Enter a positive integer n: \"))\n",
        "    if n <= 0:\n",
        "        print(\"Please enter a positive integer.\")\n",
        "    else:\n",
        "        series_sum = compute_series_sum(n)\n",
        "        print(f\"The sum of the series up to {n} terms is {series_sum:.6f}.\")\n",
        "except ValueError:\n",
        "    print(\"Invalid input. Please enter a valid positive integer.\")\n"
      ],
      "metadata": {
        "id": "yOjkFrNWQJ-m"
      },
      "execution_count": null,
      "outputs": []
    },
    {
      "cell_type": "markdown",
      "source": [
        "Q7)Write a program to compute sin x for given x. The user should supply x and a positive integer\n",
        "n. We compute the sine of x using the series and the computation should use all terms in the\n",
        "series up through the term involving xn\n",
        "sin x = x - x3/3! + x5/5! - x7/7! + x9/9! ........"
      ],
      "metadata": {
        "id": "ltxBOXmuQT5v"
      }
    },
    {
      "cell_type": "code",
      "source": [
        "import math\n",
        "\n",
        "def compute_sine(x, n):\n",
        "\n",
        "    sine_value = 0.0\n",
        "\n",
        "    for i in range(n):\n",
        "\n",
        "        term = ((-1)**i * (x**(2*i + 1))) / math.factorial(2*i + 1)\n",
        "        sine_value += term\n",
        "\n",
        "    return sine_value\n",
        "\n",
        "\n",
        "try:\n",
        "    x = float(input(\"Enter the value of x (in radians): \"))\n",
        "    n = int(input(\"Enter the number of terms in the series (positive integer): \"))\n",
        "\n",
        "    if n <= 0:\n",
        "        print(\"The number of terms must be a positive integer.\")\n",
        "    else:\n",
        "        sine_value = compute_sine(x, n)\n",
        "        print(f\"The sine of {x} using {n} terms in the series is {sine_value:.6f}.\")\n",
        "except ValueError:\n",
        "    print(\"Invalid input. Please enter valid numbers for x and n.\")\n"
      ],
      "metadata": {
        "id": "uVeNqGoCQY4G"
      },
      "execution_count": null,
      "outputs": []
    },
    {
      "cell_type": "markdown",
      "source": [
        "Q8)Write a program to compute cosine of x. The user should supply x and a positive integer n.\n",
        "We compute the cosine of x using the series and the computation should use all terms in the\n",
        "series up through the term involving xn\n",
        "cos x = 1 - x2/2! + x4/4! - x6/6! ...."
      ],
      "metadata": {
        "id": "qXGnoZnYQeMv"
      }
    },
    {
      "cell_type": "code",
      "source": [
        "import math\n",
        "\n",
        "def compute_cosine(x, n):\n",
        "\n",
        "    cosine_value = 0.0\n",
        "\n",
        "    for i in range(n):\n",
        "\n",
        "        term = ((-1)**i * (x**(2*i))) / math.factorial(2*i)\n",
        "        cosine_value += term\n",
        "\n",
        "    return cosine_value\n",
        "\n",
        "\n",
        "try:\n",
        "    x = float(input(\"Enter the value of x (in radians): \"))\n",
        "    n = int(input(\"Enter the number of terms in the series (positive integer): \"))\n",
        "\n",
        "    if n <= 0:\n",
        "        print(\"The number of terms must be a positive integer.\")\n",
        "    else:\n",
        "        cosine_value = compute_cosine(x, n)\n",
        "        print(f\"The cosine of {x} using {n} terms in the series is {cosine_value:.6f}.\")\n",
        "except ValueError:\n",
        "    print(\"Invalid input. Please enter valid numbers for x and n.\")\n"
      ],
      "metadata": {
        "id": "RTHYpjukQkfW"
      },
      "execution_count": null,
      "outputs": []
    },
    {
      "cell_type": "markdown",
      "source": [
        "Q9)Print the pattern upto N Lines:"
      ],
      "metadata": {
        "id": "61qVCMYPriKO"
      }
    },
    {
      "cell_type": "code",
      "source": [
        "def print_pattern_9(N):\n",
        "    for i in range(1, N + 1):\n",
        "        # Print leading spaces\n",
        "        for j in range(N - i):\n",
        "            print(\" \", end=\"\")\n",
        "\n",
        "        print(\"/\", end=\"\")\n",
        "        if i > 1:\n",
        "            for j in range(2 * (i - 1)):\n",
        "                print(\"_\", end=\"\")\n",
        "\n",
        "        print(\"\\\\\")\n",
        "\n",
        "print_pattern_9(2)\n",
        "print()\n",
        "print_pattern_9(3)\n",
        "print()\n",
        "print_pattern_9(4)\n"
      ],
      "metadata": {
        "id": "qLduSvUXrkIz"
      },
      "execution_count": null,
      "outputs": []
    },
    {
      "cell_type": "markdown",
      "source": [
        "Q12)Write a python script that displays the following table\n",
        "1 1 1 1 1\n",
        "2 1 2 4 8\n",
        "3 1 3 9 27\n",
        "4 1 4 16 64\n",
        "5 1 5 25 125"
      ],
      "metadata": {
        "id": "GIekIjkwQ6qg"
      }
    },
    {
      "cell_type": "code",
      "source": [
        "def display_table():\n",
        "\n",
        "    num_rows = 5\n",
        "    num_columns = 5\n",
        "\n",
        "\n",
        "    for i in range(1, num_rows + 1):\n",
        "        row = [i]\n",
        "        for j in range(num_columns - 1):\n",
        "\n",
        "            row.append(i ** j)\n",
        "        print(' '.join(map(str, row)))\n",
        "\n",
        "display_table()\n"
      ],
      "metadata": {
        "id": "xRYurW4HRHnS"
      },
      "execution_count": null,
      "outputs": []
    },
    {
      "cell_type": "markdown",
      "source": [
        "Q10. Print a number as a 8 segment display N Lines:"
      ],
      "metadata": {
        "id": "1xkj1fU9rnlU"
      }
    },
    {
      "cell_type": "code",
      "source": [
        "def print_pattern_10(N):\n",
        "    for i in range(N):\n",
        "        if i % 2 == 0:\n",
        "            print(\" _ \", end=\" \")\n",
        "        else:\n",
        "            print(\"|_|\", end=\" \")\n",
        "        print()\n",
        "\n",
        "print_pattern_10(2)\n",
        "print()\n",
        "print_pattern_10(3)\n",
        "print()\n",
        "print_pattern_10(4)\n"
      ],
      "metadata": {
        "id": "xL0VL7Kzrq3j"
      },
      "execution_count": null,
      "outputs": []
    },
    {
      "cell_type": "markdown",
      "source": [
        "Q11)Print the pattern upto N lines:"
      ],
      "metadata": {
        "id": "a0sux19CrtZT"
      }
    },
    {
      "cell_type": "code",
      "source": [
        "def print_pattern_11(N):\n",
        "    num = 1\n",
        "    arr = [[0 for _ in range(N)] for _ in range(N)]\n",
        "    for i in range(N):\n",
        "        if i % 2 == 0:\n",
        "            for j in range(N):\n",
        "                arr[i][j] = num\n",
        "                num += 1\n",
        "        else:\n",
        "            for j in range(N - 1, -1, -1):\n",
        "                arr[i][j] = num\n",
        "                num += 1\n",
        "\n",
        "    for row in arr:\n",
        "        print(\" \".join(map(str, row)))\n",
        "\n",
        "\n",
        "print_pattern_11(2)\n",
        "print()\n",
        "print_pattern_11(3)\n",
        "print()\n",
        "print_pattern_11(4)\n"
      ],
      "metadata": {
        "id": "Re0Dual1r5LM"
      },
      "execution_count": null,
      "outputs": []
    },
    {
      "cell_type": "markdown",
      "source": [
        "Q12)Write a python script that displays the following table"
      ],
      "metadata": {
        "id": "qt1OrfZzr66y"
      }
    },
    {
      "cell_type": "code",
      "source": [
        "def print_pattern_12(N):\n",
        "    for i in range(1, N + 1):\n",
        "        for j in range(1, 6):\n",
        "            print(i**j, end=\" \")\n",
        "        print()\n",
        "\n",
        "\n",
        "print_pattern_12(2)\n",
        "print()\n",
        "print_pattern_12(3)\n",
        "print()\n",
        "print_pattern_12(4)\n"
      ],
      "metadata": {
        "id": "dE1Naakqr-Wz"
      },
      "execution_count": null,
      "outputs": []
    }
  ]
}